{
 "cells": [
  {
   "cell_type": "code",
   "execution_count": null,
   "metadata": {},
   "outputs": [],
   "source": [
    "import pandas as pd\n",
    "\n",
    "moviesdata = pd.read_csv('/Users/Home/Deskstop/Projects/Recommendation-Engine/MoviesDataSet/movies.csv', error_bad_lines=False, encoding='latin-1', sep=',')\n",
    "moviesdata.head()\n",
    "#moviesdata.info()\n"
   ]
  },
  {
   "cell_type": "code",
   "execution_count": 7,
   "metadata": {},
   "outputs": [
    {
     "name": "stderr",
     "output_type": "stream",
     "text": [
      "/var/folders/vl/qq_c7bm112dcrjfy9kktgbqm0000gq/T/ipykernel_2926/2744413662.py:5: FutureWarning: The error_bad_lines argument has been deprecated and will be removed in a future version. Use on_bad_lines in the future.\n",
      "\n",
      "\n",
      "  booksdata = pd.read_csv('/Users/Home/Deskstop/Projects/Recommendation-Engine/BookDataSet/BX-Books.csv', error_bad_lines=False, encoding='latin-1', sep=';')\n",
      "Skipping line 6452: expected 8 fields, saw 9\n",
      "Skipping line 43667: expected 8 fields, saw 10\n",
      "Skipping line 51751: expected 8 fields, saw 9\n",
      "\n",
      "Skipping line 92038: expected 8 fields, saw 9\n",
      "Skipping line 104319: expected 8 fields, saw 9\n",
      "Skipping line 121768: expected 8 fields, saw 9\n",
      "\n",
      "Skipping line 144058: expected 8 fields, saw 9\n",
      "Skipping line 150789: expected 8 fields, saw 9\n",
      "Skipping line 157128: expected 8 fields, saw 9\n",
      "Skipping line 180189: expected 8 fields, saw 9\n",
      "Skipping line 185738: expected 8 fields, saw 9\n",
      "\n",
      "Skipping line 209388: expected 8 fields, saw 9\n",
      "Skipping line 220626: expected 8 fields, saw 9\n",
      "Skipping line 227933: expected 8 fields, saw 11\n",
      "Skipping line 228957: expected 8 fields, saw 10\n",
      "Skipping line 245933: expected 8 fields, saw 9\n",
      "Skipping line 251296: expected 8 fields, saw 9\n",
      "Skipping line 259941: expected 8 fields, saw 9\n",
      "Skipping line 261529: expected 8 fields, saw 9\n",
      "\n",
      "/var/folders/vl/qq_c7bm112dcrjfy9kktgbqm0000gq/T/ipykernel_2926/2744413662.py:5: DtypeWarning: Columns (3) have mixed types. Specify dtype option on import or set low_memory=False.\n",
      "  booksdata = pd.read_csv('/Users/Home/Deskstop/Projects/Recommendation-Engine/BookDataSet/BX-Books.csv', error_bad_lines=False, encoding='latin-1', sep=';')\n"
     ]
    },
    {
     "ename": "KeyError",
     "evalue": "\"'sherlock holmes'\"",
     "output_type": "error",
     "traceback": [
      "\u001b[0;31m---------------------------------------------------------------------------\u001b[0m",
      "\u001b[0;31mKeyError\u001b[0m                                  Traceback (most recent call last)",
      "File \u001b[0;32m/Library/Frameworks/Python.framework/Versions/3.10/lib/python3.10/site-packages/pandas/core/indexes/base.py:3803\u001b[0m, in \u001b[0;36mIndex.get_loc\u001b[0;34m(self, key, method, tolerance)\u001b[0m\n\u001b[1;32m   3802\u001b[0m \u001b[39mtry\u001b[39;00m:\n\u001b[0;32m-> 3803\u001b[0m     \u001b[39mreturn\u001b[39;00m \u001b[39mself\u001b[39;49m\u001b[39m.\u001b[39;49m_engine\u001b[39m.\u001b[39;49mget_loc(casted_key)\n\u001b[1;32m   3804\u001b[0m \u001b[39mexcept\u001b[39;00m \u001b[39mKeyError\u001b[39;00m \u001b[39mas\u001b[39;00m err:\n",
      "File \u001b[0;32m/Library/Frameworks/Python.framework/Versions/3.10/lib/python3.10/site-packages/pandas/_libs/index.pyx:138\u001b[0m, in \u001b[0;36mpandas._libs.index.IndexEngine.get_loc\u001b[0;34m()\u001b[0m\n",
      "File \u001b[0;32m/Library/Frameworks/Python.framework/Versions/3.10/lib/python3.10/site-packages/pandas/_libs/index.pyx:162\u001b[0m, in \u001b[0;36mpandas._libs.index.IndexEngine.get_loc\u001b[0;34m()\u001b[0m\n",
      "File \u001b[0;32m/Library/Frameworks/Python.framework/Versions/3.10/lib/python3.10/site-packages/pandas/_libs/index.pyx:203\u001b[0m, in \u001b[0;36mpandas._libs.index.IndexEngine._get_loc_duplicates\u001b[0;34m()\u001b[0m\n",
      "File \u001b[0;32m/Library/Frameworks/Python.framework/Versions/3.10/lib/python3.10/site-packages/pandas/_libs/index.pyx:211\u001b[0m, in \u001b[0;36mpandas._libs.index.IndexEngine._maybe_get_bool_indexer\u001b[0;34m()\u001b[0m\n",
      "File \u001b[0;32m/Library/Frameworks/Python.framework/Versions/3.10/lib/python3.10/site-packages/pandas/_libs/index.pyx:107\u001b[0m, in \u001b[0;36mpandas._libs.index._unpack_bool_indexer\u001b[0;34m()\u001b[0m\n",
      "\u001b[0;31mKeyError\u001b[0m: \"'sherlock holmes'\"",
      "\nThe above exception was the direct cause of the following exception:\n",
      "\u001b[0;31mKeyError\u001b[0m                                  Traceback (most recent call last)",
      "Cell \u001b[0;32mIn[7], line 35\u001b[0m\n\u001b[1;32m     33\u001b[0m \u001b[39m#input_book = 'far beyond the stars (star trek deep space nine)'\u001b[39;00m\n\u001b[1;32m     34\u001b[0m input_book \u001b[39m=\u001b[39m \u001b[39minput\u001b[39m(\u001b[39m\"\u001b[39m\u001b[39mInput a book\u001b[39m\u001b[39m\"\u001b[39m)\n\u001b[0;32m---> 35\u001b[0m recommendations \u001b[39m=\u001b[39m pd\u001b[39m.\u001b[39mDataFrame(booksdata\u001b[39m.\u001b[39;49mnlargest(\u001b[39m11\u001b[39;49m,input_book)[\u001b[39m'\u001b[39m\u001b[39mBook-Title\u001b[39m\u001b[39m'\u001b[39m])\n\u001b[1;32m     36\u001b[0m recommendations \u001b[39m=\u001b[39m recommendations[recommendations[\u001b[39m'\u001b[39m\u001b[39mBook-Title\u001b[39m\u001b[39m'\u001b[39m]\u001b[39m!=\u001b[39minput_book]\n\u001b[1;32m     38\u001b[0m \u001b[39mprint\u001b[39m(recommendations)\n",
      "File \u001b[0;32m/Library/Frameworks/Python.framework/Versions/3.10/lib/python3.10/site-packages/pandas/core/frame.py:7335\u001b[0m, in \u001b[0;36mDataFrame.nlargest\u001b[0;34m(self, n, columns, keep)\u001b[0m\n\u001b[1;32m   7230\u001b[0m \u001b[39mdef\u001b[39;00m \u001b[39mnlargest\u001b[39m(\u001b[39mself\u001b[39m, n: \u001b[39mint\u001b[39m, columns: IndexLabel, keep: \u001b[39mstr\u001b[39m \u001b[39m=\u001b[39m \u001b[39m\"\u001b[39m\u001b[39mfirst\u001b[39m\u001b[39m\"\u001b[39m) \u001b[39m-\u001b[39m\u001b[39m>\u001b[39m DataFrame:\n\u001b[1;32m   7231\u001b[0m     \u001b[39m\"\"\"\u001b[39;00m\n\u001b[1;32m   7232\u001b[0m \u001b[39m    Return the first `n` rows ordered by `columns` in descending order.\u001b[39;00m\n\u001b[1;32m   7233\u001b[0m \n\u001b[0;32m   (...)\u001b[0m\n\u001b[1;32m   7333\u001b[0m \u001b[39m    Brunei      434000    12128      BN\u001b[39;00m\n\u001b[1;32m   7334\u001b[0m \u001b[39m    \"\"\"\u001b[39;00m\n\u001b[0;32m-> 7335\u001b[0m     \u001b[39mreturn\u001b[39;00m algorithms\u001b[39m.\u001b[39;49mSelectNFrame(\u001b[39mself\u001b[39;49m, n\u001b[39m=\u001b[39;49mn, keep\u001b[39m=\u001b[39;49mkeep, columns\u001b[39m=\u001b[39;49mcolumns)\u001b[39m.\u001b[39;49mnlargest()\n",
      "File \u001b[0;32m/Library/Frameworks/Python.framework/Versions/3.10/lib/python3.10/site-packages/pandas/core/algorithms.py:1273\u001b[0m, in \u001b[0;36mSelectN.nlargest\u001b[0;34m(self)\u001b[0m\n\u001b[1;32m   1271\u001b[0m \u001b[39m@final\u001b[39m\n\u001b[1;32m   1272\u001b[0m \u001b[39mdef\u001b[39;00m \u001b[39mnlargest\u001b[39m(\u001b[39mself\u001b[39m):\n\u001b[0;32m-> 1273\u001b[0m     \u001b[39mreturn\u001b[39;00m \u001b[39mself\u001b[39;49m\u001b[39m.\u001b[39;49mcompute(\u001b[39m\"\u001b[39;49m\u001b[39mnlargest\u001b[39;49m\u001b[39m\"\u001b[39;49m)\n",
      "File \u001b[0;32m/Library/Frameworks/Python.framework/Versions/3.10/lib/python3.10/site-packages/pandas/core/algorithms.py:1402\u001b[0m, in \u001b[0;36mSelectNFrame.compute\u001b[0;34m(self, method)\u001b[0m\n\u001b[1;32m   1399\u001b[0m columns \u001b[39m=\u001b[39m \u001b[39mself\u001b[39m\u001b[39m.\u001b[39mcolumns\n\u001b[1;32m   1401\u001b[0m \u001b[39mfor\u001b[39;00m column \u001b[39min\u001b[39;00m columns:\n\u001b[0;32m-> 1402\u001b[0m     dtype \u001b[39m=\u001b[39m frame[column]\u001b[39m.\u001b[39mdtype\n\u001b[1;32m   1403\u001b[0m     \u001b[39mif\u001b[39;00m \u001b[39mnot\u001b[39;00m \u001b[39mself\u001b[39m\u001b[39m.\u001b[39mis_valid_dtype_n_method(dtype):\n\u001b[1;32m   1404\u001b[0m         \u001b[39mraise\u001b[39;00m \u001b[39mTypeError\u001b[39;00m(\n\u001b[1;32m   1405\u001b[0m             \u001b[39mf\u001b[39m\u001b[39m\"\u001b[39m\u001b[39mColumn \u001b[39m\u001b[39m{\u001b[39;00m\u001b[39mrepr\u001b[39m(column)\u001b[39m}\u001b[39;00m\u001b[39m has dtype \u001b[39m\u001b[39m{\u001b[39;00mdtype\u001b[39m}\u001b[39;00m\u001b[39m, \u001b[39m\u001b[39m\"\u001b[39m\n\u001b[1;32m   1406\u001b[0m             \u001b[39mf\u001b[39m\u001b[39m\"\u001b[39m\u001b[39mcannot use method \u001b[39m\u001b[39m{\u001b[39;00m\u001b[39mrepr\u001b[39m(method)\u001b[39m}\u001b[39;00m\u001b[39m with this dtype\u001b[39m\u001b[39m\"\u001b[39m\n\u001b[1;32m   1407\u001b[0m         )\n",
      "File \u001b[0;32m/Library/Frameworks/Python.framework/Versions/3.10/lib/python3.10/site-packages/pandas/core/frame.py:3805\u001b[0m, in \u001b[0;36mDataFrame.__getitem__\u001b[0;34m(self, key)\u001b[0m\n\u001b[1;32m   3803\u001b[0m \u001b[39mif\u001b[39;00m \u001b[39mself\u001b[39m\u001b[39m.\u001b[39mcolumns\u001b[39m.\u001b[39mnlevels \u001b[39m>\u001b[39m \u001b[39m1\u001b[39m:\n\u001b[1;32m   3804\u001b[0m     \u001b[39mreturn\u001b[39;00m \u001b[39mself\u001b[39m\u001b[39m.\u001b[39m_getitem_multilevel(key)\n\u001b[0;32m-> 3805\u001b[0m indexer \u001b[39m=\u001b[39m \u001b[39mself\u001b[39;49m\u001b[39m.\u001b[39;49mcolumns\u001b[39m.\u001b[39;49mget_loc(key)\n\u001b[1;32m   3806\u001b[0m \u001b[39mif\u001b[39;00m is_integer(indexer):\n\u001b[1;32m   3807\u001b[0m     indexer \u001b[39m=\u001b[39m [indexer]\n",
      "File \u001b[0;32m/Library/Frameworks/Python.framework/Versions/3.10/lib/python3.10/site-packages/pandas/core/indexes/base.py:3805\u001b[0m, in \u001b[0;36mIndex.get_loc\u001b[0;34m(self, key, method, tolerance)\u001b[0m\n\u001b[1;32m   3803\u001b[0m     \u001b[39mreturn\u001b[39;00m \u001b[39mself\u001b[39m\u001b[39m.\u001b[39m_engine\u001b[39m.\u001b[39mget_loc(casted_key)\n\u001b[1;32m   3804\u001b[0m \u001b[39mexcept\u001b[39;00m \u001b[39mKeyError\u001b[39;00m \u001b[39mas\u001b[39;00m err:\n\u001b[0;32m-> 3805\u001b[0m     \u001b[39mraise\u001b[39;00m \u001b[39mKeyError\u001b[39;00m(key) \u001b[39mfrom\u001b[39;00m \u001b[39merr\u001b[39;00m\n\u001b[1;32m   3806\u001b[0m \u001b[39mexcept\u001b[39;00m \u001b[39mTypeError\u001b[39;00m:\n\u001b[1;32m   3807\u001b[0m     \u001b[39m# If we have a listlike key, _check_indexing_error will raise\u001b[39;00m\n\u001b[1;32m   3808\u001b[0m     \u001b[39m#  InvalidIndexError. Otherwise we fall through and re-raise\u001b[39;00m\n\u001b[1;32m   3809\u001b[0m     \u001b[39m#  the TypeError.\u001b[39;00m\n\u001b[1;32m   3810\u001b[0m     \u001b[39mself\u001b[39m\u001b[39m.\u001b[39m_check_indexing_error(key)\n",
      "\u001b[0;31mKeyError\u001b[0m: \"'sherlock holmes'\""
     ]
    }
   ],
   "source": [
    "import pandas as pd\n",
    "from sklearn.metrics.pairwise import cosine_similarity\n",
    "from sklearn.feature_extraction.text import CountVectorizer\n",
    "\n",
    "booksdata = pd.read_csv('/Users/Home/Deskstop/Projects/Recommendation-Engine/BookDataSet/BX-Books.csv', error_bad_lines=False, encoding='latin-1', sep=';')\n",
    "booksdata = booksdata.drop_duplicates(subset='Book-Title')\n",
    "sampleSize = 15000\n",
    "booksdata = booksdata.sample(n=sampleSize, replace=False, random_state=490)\n",
    "booksdata = booksdata.reset_index()\n",
    "booksdata = booksdata.drop('index', axis=1)\n",
    "\n",
    "\n",
    "def cleanText(author):\n",
    "    return str(author).lower()\n",
    "\n",
    "booksdata['Book-Author'] = booksdata['Book-Author'].apply(cleanText)\n",
    "booksdata['Publisher'] = booksdata['Publisher'].apply(cleanText)\n",
    "booksdata['Book-Title'] = booksdata['Book-Title'].apply(cleanText)\n",
    "booksdata2 = booksdata.drop(['ISBN', 'Image-URL-S', 'Image-URL-M', 'Image-URL-L', 'Year-Of-Publication'], axis=1)\n",
    "\n",
    "booksdata2['data'] = booksdata2[booksdata2.columns[1:]].apply(\n",
    "    lambda x: ' '.join(x.dropna().astype(str)), \n",
    "    axis=1\n",
    ")\n",
    "\n",
    "vectorizer = CountVectorizer()\n",
    "vectorized = vectorizer.fit_transform(booksdata2['data'])\n",
    "similarity = cosine_similarity(vectorized)\n",
    "\n",
    "booksdata = pd.DataFrame(similarity, columns=booksdata['Book-Title'], index=booksdata['Book-Title']).reset_index()\n",
    "\n",
    "input_book = 'far beyond the stars (star trek deep space nine)'\n",
    "recommendations = pd.DataFrame(booksdata.nlargest(5,input_book)['Book-Title'])\n",
    "recommendations = recommendations[recommendations['Book-Title']!=input_book]\n",
    "\n",
    "print(recommendations)"
   ]
  }
 ],
 "metadata": {
  "kernelspec": {
   "display_name": "Python 3",
   "language": "python",
   "name": "python3"
  },
  "language_info": {
   "codemirror_mode": {
    "name": "ipython",
    "version": 3
   },
   "file_extension": ".py",
   "mimetype": "text/x-python",
   "name": "python",
   "nbconvert_exporter": "python",
   "pygments_lexer": "ipython3",
   "version": "3.10.4"
  },
  "orig_nbformat": 4,
  "vscode": {
   "interpreter": {
    "hash": "98590ff4fe04c8543246b2a01debd3de3c5ca9b666f43f1fa87d5110c692004c"
   }
  }
 },
 "nbformat": 4,
 "nbformat_minor": 2
}
