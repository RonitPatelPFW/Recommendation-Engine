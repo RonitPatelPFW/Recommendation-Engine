{
 "cells": [
  {
   "cell_type": "code",
   "execution_count": null,
   "metadata": {},
   "outputs": [],
   "source": [
    "import pandas as pd\n",
    "\n",
    "moviesdata = pd.read_csv('/Users/Home/Deskstop/Projects/Recommendation-Engine/MoviesDataSet/movies.csv', error_bad_lines=False, encoding='latin-1', sep=',')\n",
    "moviesdata.head()\n",
    "#moviesdata.info()\n"
   ]
  },
  {
   "cell_type": "code",
   "execution_count": null,
   "metadata": {},
   "outputs": [],
   "source": [
    "import pandas as pd\n",
    "from sklearn.metrics.pairwise import cosine_similarity\n",
    "from sklearn.feature_extraction.text import CountVectorizer\n",
    "\n",
    "booksdata = pd.read_csv('/Users/Home/Deskstop/Projects/Recommendation-Engine/BookDataSet/BX-Books.csv', error_bad_lines=False, encoding='latin-1', sep=';')\n",
    "booksdata = booksdata.drop_duplicates(subset='Book-Title')\n",
    "sampleSize = 15000\n",
    "booksdata = booksdata.sample(n=sampleSize, replace=False, random_state=490)\n",
    "booksdata = booksdata.reset_index()\n",
    "booksdata = booksdata.drop('index', axis=1)"
   ]
  },
  {
   "cell_type": "code",
   "execution_count": null,
   "metadata": {},
   "outputs": [],
   "source": [
    "def cleanText(author):\n",
    "    return str(author).lower()\n",
    "\n",
    "booksdata['Book-Author'] = booksdata['Book-Author'].apply(cleanText)\n",
    "booksdata['Publisher'] = booksdata['Publisher'].apply(cleanText)\n",
    "booksdata['Book-Title'] = booksdata['Book-Title'].apply(cleanText)\n",
    "booksdata2 = booksdata.drop(['ISBN', 'Image-URL-S', 'Image-URL-M', 'Image-URL-L', 'Year-Of-Publication'], axis=1)\n",
    "\n",
    "booksdata2['data'] = booksdata2[booksdata2.columns[1:]].apply(\n",
    "    lambda x: ' '.join(x.dropna().astype(str)), \n",
    "    axis=1\n",
    ")"
   ]
  },
  {
   "cell_type": "code",
   "execution_count": null,
   "metadata": {},
   "outputs": [],
   "source": [
    "\n",
    "vectorizer = CountVectorizer()\n",
    "vectorized = vectorizer.fit_transform(booksdata2['data'])\n",
    "similarity = cosine_similarity(vectorized)\n",
    "\n",
    "booksdata = pd.DataFrame(similarity, columns=booksdata['Book-Title'], index=booksdata['Book-Title']).reset_index()"
   ]
  },
  {
   "cell_type": "code",
   "execution_count": null,
   "metadata": {},
   "outputs": [],
   "source": [
    "input_book = 'far beyond the stars (star trek deep space nine)'\n",
    "\n",
    "recommendations = pd.DataFrame(booksdata.nlargest(5,input_book)['Book-Title'])\n",
    "recommendations = recommendations[recommendations['Book-Title']!=input_book]\n",
    "\n",
    "print(recommendations)"
   ]
  }
 ],
 "metadata": {
  "kernelspec": {
   "display_name": "Python 3",
   "language": "python",
   "name": "python3"
  },
  "language_info": {
   "codemirror_mode": {
    "name": "ipython",
    "version": 3
   },
   "file_extension": ".py",
   "mimetype": "text/x-python",
   "name": "python",
   "nbconvert_exporter": "python",
   "pygments_lexer": "ipython3",
   "version": "3.10.4"
  },
  "orig_nbformat": 4,
  "vscode": {
   "interpreter": {
    "hash": "98590ff4fe04c8543246b2a01debd3de3c5ca9b666f43f1fa87d5110c692004c"
   }
  }
 },
 "nbformat": 4,
 "nbformat_minor": 2
}
