{
 "cells": [
  {
   "cell_type": "code",
   "execution_count": null,
   "metadata": {},
   "outputs": [],
   "source": [
    "import pandas as pd\n",
    "\n",
    "moviesdata = pd.read_csv('/Users/Home/Deskstop/Projects/Recommendation-Engine/MoviesDataSet/movies.csv', error_bad_lines=False, encoding='latin-1', sep=',')\n",
    "moviesdata.head()\n",
    "#moviesdata.info()\n"
   ]
  },
  {
   "cell_type": "code",
   "execution_count": 1,
   "metadata": {},
   "outputs": [
    {
     "name": "stderr",
     "output_type": "stream",
     "text": [
      "/var/folders/vl/qq_c7bm112dcrjfy9kktgbqm0000gq/T/ipykernel_718/3284443107.py:5: FutureWarning: The error_bad_lines argument has been deprecated and will be removed in a future version. Use on_bad_lines in the future.\n",
      "\n",
      "\n",
      "  booksdata = pd.read_csv('/Users/Home/Deskstop/Projects/Recommendation-Engine/BookDataSet/BX-Books.csv', error_bad_lines=False, encoding='latin-1', sep=';')\n",
      "Skipping line 6452: expected 8 fields, saw 9\n",
      "Skipping line 43667: expected 8 fields, saw 10\n",
      "Skipping line 51751: expected 8 fields, saw 9\n",
      "\n",
      "Skipping line 92038: expected 8 fields, saw 9\n",
      "Skipping line 104319: expected 8 fields, saw 9\n",
      "Skipping line 121768: expected 8 fields, saw 9\n",
      "\n",
      "Skipping line 144058: expected 8 fields, saw 9\n",
      "Skipping line 150789: expected 8 fields, saw 9\n",
      "Skipping line 157128: expected 8 fields, saw 9\n",
      "Skipping line 180189: expected 8 fields, saw 9\n",
      "Skipping line 185738: expected 8 fields, saw 9\n",
      "\n",
      "Skipping line 209388: expected 8 fields, saw 9\n",
      "Skipping line 220626: expected 8 fields, saw 9\n",
      "Skipping line 227933: expected 8 fields, saw 11\n",
      "Skipping line 228957: expected 8 fields, saw 10\n",
      "Skipping line 245933: expected 8 fields, saw 9\n",
      "Skipping line 251296: expected 8 fields, saw 9\n",
      "Skipping line 259941: expected 8 fields, saw 9\n",
      "Skipping line 261529: expected 8 fields, saw 9\n",
      "\n",
      "/var/folders/vl/qq_c7bm112dcrjfy9kktgbqm0000gq/T/ipykernel_718/3284443107.py:5: DtypeWarning: Columns (3) have mixed types. Specify dtype option on import or set low_memory=False.\n",
      "  booksdata = pd.read_csv('/Users/Home/Deskstop/Projects/Recommendation-Engine/BookDataSet/BX-Books.csv', error_bad_lines=False, encoding='latin-1', sep=';')\n"
     ]
    },
    {
     "name": "stdout",
     "output_type": "stream",
     "text": [
      "                                              Book-Title\n",
      "14310  possession (star trek: the next generation, no...\n",
      "14511              time for yesterday (star trek, no 39)\n",
      "102                                   gemini (star trek)\n",
      "768     to storm heaven (star trek: the next generation)\n",
      "802    the star trek chronology : a history of the fu...\n",
      "1380   dreams of the raven: star trek #34 (star trek ...\n",
      "1472            gateways #1:  one small step (star trek)\n",
      "1677                     enterprise: the first adventure\n",
      "2891                 marooned (star trek voyager, no 14)\n",
      "3727      maelstrom (ultima: the technocrat war, book 3)\n"
     ]
    }
   ],
   "source": [
    "import pandas as pd\n",
    "from sklearn.metrics.pairwise import cosine_similarity\n",
    "from sklearn.feature_extraction.text import CountVectorizer\n",
    "\n",
    "booksdata = pd.read_csv('/Users/Home/Deskstop/Projects/Recommendation-Engine/BookDataSet/BX-Books.csv', error_bad_lines=False, encoding='latin-1', sep=';')\n",
    "booksdata = booksdata.drop_duplicates(subset='Book-Title')\n",
    "sampleSize = 15000\n",
    "booksdata = booksdata.sample(n=sampleSize, replace=False, random_state=490)\n",
    "booksdata = booksdata.reset_index()\n",
    "booksdata = booksdata.drop('index', axis=1)\n",
    "\n",
    "\n",
    "def cleanText(author):\n",
    "    result = str(author).lower()\n",
    "    return result\n",
    "\n",
    "booksdata['Book-Author'] = booksdata['Book-Author'].apply(cleanText)\n",
    "booksdata['Publisher'] = booksdata['Publisher'].apply(cleanText)\n",
    "booksdata['Book-Title'] = booksdata['Book-Title'].apply(cleanText)\n",
    "booksdata2 = booksdata.drop(['ISBN', 'Image-URL-S', 'Image-URL-M', 'Image-URL-L', 'Year-Of-Publication'], axis=1)\n",
    "\n",
    "booksdata2['data'] = booksdata2[booksdata2.columns[1:]].apply(\n",
    "    lambda x: ' '.join(x.dropna().astype(str)), \n",
    "    axis=1\n",
    ")\n",
    "\n",
    "vectorizer = CountVectorizer()\n",
    "vectorized = vectorizer.fit_transform(booksdata2['data'])\n",
    "similarity = cosine_similarity(vectorized)\n",
    "\n",
    "booksdata = pd.DataFrame(similarity, columns=booksdata['Book-Title'], index=booksdata['Book-Title']).reset_index()\n",
    "\n",
    "input_book = 'far beyond the stars (star trek deep space nine)'\n",
    "recommendations = pd.DataFrame(booksdata.nlargest(11,input_book)['Book-Title'])\n",
    "recommendations = recommendations[recommendations['Book-Title']!=input_book]\n",
    "\n",
    "print(recommendations)"
   ]
  }
 ],
 "metadata": {
  "kernelspec": {
   "display_name": "Python 3",
   "language": "python",
   "name": "python3"
  },
  "language_info": {
   "codemirror_mode": {
    "name": "ipython",
    "version": 3
   },
   "file_extension": ".py",
   "mimetype": "text/x-python",
   "name": "python",
   "nbconvert_exporter": "python",
   "pygments_lexer": "ipython3",
   "version": "3.10.4"
  },
  "orig_nbformat": 4,
  "vscode": {
   "interpreter": {
    "hash": "98590ff4fe04c8543246b2a01debd3de3c5ca9b666f43f1fa87d5110c692004c"
   }
  }
 },
 "nbformat": 4,
 "nbformat_minor": 2
}
